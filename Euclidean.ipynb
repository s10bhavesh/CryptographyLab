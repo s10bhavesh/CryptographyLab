{
 "cells": [
  {
   "cell_type": "code",
   "execution_count": 40,
   "metadata": {},
   "outputs": [],
   "source": [
    "import math"
   ]
  },
  {
   "cell_type": "code",
   "execution_count": 41,
   "metadata": {},
   "outputs": [],
   "source": [
    "n = 11\n",
    "I = 13\n",
    "\n",
    "# x1,x2,x3 = 0,1,n \n",
    "# y1,y2,y3 = 0,1,I\n",
    "\n",
    "X = [1,0,n]\n",
    "Y = [0,1,I]\n",
    "T = [0,0,0]\n"
   ]
  },
  {
   "cell_type": "code",
   "execution_count": 42,
   "metadata": {},
   "outputs": [
    {
     "data": {
      "text/plain": [
       "[1, 0, 11]"
      ]
     },
     "execution_count": 42,
     "metadata": {},
     "output_type": "execute_result"
    }
   ],
   "source": [
    "X"
   ]
  },
  {
   "cell_type": "code",
   "execution_count": 43,
   "metadata": {},
   "outputs": [
    {
     "data": {
      "text/plain": [
       "[0, 1, 13]"
      ]
     },
     "execution_count": 43,
     "metadata": {},
     "output_type": "execute_result"
    }
   ],
   "source": [
    "Y"
   ]
  },
  {
   "cell_type": "code",
   "execution_count": 44,
   "metadata": {},
   "outputs": [
    {
     "data": {
      "text/plain": [
       "2"
      ]
     },
     "execution_count": 44,
     "metadata": {},
     "output_type": "execute_result"
    }
   ],
   "source": [
    "Q"
   ]
  },
  {
   "cell_type": "code",
   "execution_count": 45,
   "metadata": {},
   "outputs": [
    {
     "name": "stdout",
     "output_type": "stream",
     "text": [
      "Inverse -5\n"
     ]
    }
   ],
   "source": [
    "if (Y[2]==0):\n",
    "    print(\"No Inverse\")\n",
    "elif (Y[2]==1):\n",
    "    print(\"Inverse\", y2)\n",
    "    \n",
    "flag=1\n",
    "\n",
    "while (flag):\n",
    "    Q = math.floor(X[2]/Y[2])\n",
    "    for i in range(0,3):\n",
    "        T[i] = X[i]-Q*Y[i]\n",
    "        X[i] = Y[i]\n",
    "        Y[i] = T[i]\n",
    "    if (Y[2]==0):\n",
    "        flag= 0\n",
    "        print(\"No Inverse\")\n",
    "    elif (Y[2]==1):\n",
    "        flag=0\n",
    "        print(\"Inverse\", Y[1])"
   ]
  },
  {
   "cell_type": "code",
   "execution_count": null,
   "metadata": {},
   "outputs": [],
   "source": []
  }
 ],
 "metadata": {
  "kernelspec": {
   "display_name": "Python 3",
   "language": "python",
   "name": "python3"
  },
  "language_info": {
   "codemirror_mode": {
    "name": "ipython",
    "version": 3
   },
   "file_extension": ".py",
   "mimetype": "text/x-python",
   "name": "python",
   "nbconvert_exporter": "python",
   "pygments_lexer": "ipython3",
   "version": "3.7.3"
  }
 },
 "nbformat": 4,
 "nbformat_minor": 2
}
