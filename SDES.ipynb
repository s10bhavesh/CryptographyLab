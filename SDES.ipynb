{
 "cells": [
  {
   "cell_type": "code",
   "execution_count": 1,
   "metadata": {},
   "outputs": [],
   "source": [
    "import numpy as np\n",
    "import math\n",
    "#import random"
   ]
  },
  {
   "cell_type": "code",
   "execution_count": 2,
   "metadata": {},
   "outputs": [],
   "source": [
    "P8 = [6,3,7,4,8,5,10,9]\n",
    "def permute(LS,per):\n",
    "    # P-8 table:\n",
    "    #P8 = [6,3,7,4,8,5,10,9]\n",
    "    Key1 = ''\n",
    "    for i in per:\n",
    "       # print(i)\n",
    "        Key1 = Key1+LS[i-1]\n",
    "    print(Key1)\n",
    "    return Key1\n",
    "\n",
    "#x = permute(LS,P8)"
   ]
  },
  {
   "cell_type": "code",
   "execution_count": 3,
   "metadata": {},
   "outputs": [],
   "source": [
    "# Circular Left Shift by 1 bit:\n",
    "\n",
    "def LeftShift1(k):\n",
    "    ls1_1 = k[1:5]+k[0]\n",
    "    #ls1_2 = k2[1:5]+k2[0]\n",
    "    return ls1_1\n",
    "\n",
    "\n",
    "#krr1 = "
   ]
  },
  {
   "cell_type": "code",
   "execution_count": 4,
   "metadata": {},
   "outputs": [],
   "source": [
    "# XOR function\n",
    "def XOR1(a,b):\n",
    "    funn  = ''\n",
    "    for i in range(0,len(a)):   #len('{0:04b}'.format(a))):\n",
    "        funn = funn + str(int(a[i])^int(b[i]))\n",
    "    return funn"
   ]
  },
  {
   "cell_type": "markdown",
   "metadata": {},
   "source": [
    "## Key Generation: ##"
   ]
  },
  {
   "cell_type": "code",
   "execution_count": 5,
   "metadata": {},
   "outputs": [],
   "source": [
    "# Initial 10 bit key generation:\n",
    "# k = np.random.randint(low=2**9, high=2**10)\n",
    "\n",
    "# k  = 1\t1\t1\t1\t0\t1\t1\t0\t1\t0\n",
    "\n",
    "#kbin = [1,1,1,1,0,1,1,0,1,0]\n",
    "# kbin = '{0:b}'.format(k)\n",
    "# kbin\n",
    "kbin = '1111011010'"
   ]
  },
  {
   "cell_type": "code",
   "execution_count": 6,
   "metadata": {},
   "outputs": [],
   "source": [
    "# P10 table:\n",
    "#inp = [1,2,3,4,5,6,7,8,9,10]\n",
    "opt = [3,5,2,7,4,10,1,9,8,6]"
   ]
  },
  {
   "cell_type": "code",
   "execution_count": 7,
   "metadata": {},
   "outputs": [
    {
     "name": "stdout",
     "output_type": "stream",
     "text": [
      "1011101101\n"
     ]
    }
   ],
   "source": [
    "kopt = permute(kbin,opt)"
   ]
  },
  {
   "cell_type": "code",
   "execution_count": 8,
   "metadata": {},
   "outputs": [
    {
     "data": {
      "text/plain": [
       "'1011101101'"
      ]
     },
     "execution_count": 8,
     "metadata": {},
     "output_type": "execute_result"
    }
   ],
   "source": [
    "kopt"
   ]
  },
  {
   "cell_type": "code",
   "execution_count": 9,
   "metadata": {},
   "outputs": [
    {
     "name": "stdout",
     "output_type": "stream",
     "text": [
      "10111\n",
      "01101\n"
     ]
    }
   ],
   "source": [
    "# Key splitting:\n",
    "# First half\n",
    "k1 = kopt[:5]\n",
    "# Second half\n",
    "k2 = kopt[5:]\n",
    "print(k1)\n",
    "print(k2)"
   ]
  },
  {
   "cell_type": "code",
   "execution_count": 10,
   "metadata": {},
   "outputs": [
    {
     "data": {
      "text/plain": [
       "23"
      ]
     },
     "execution_count": 10,
     "metadata": {},
     "output_type": "execute_result"
    }
   ],
   "source": [
    "# Bin2Dec\n",
    "int(k1,2)"
   ]
  },
  {
   "cell_type": "code",
   "execution_count": 11,
   "metadata": {},
   "outputs": [
    {
     "name": "stdout",
     "output_type": "stream",
     "text": [
      "01111\n",
      "11010\n"
     ]
    }
   ],
   "source": [
    "# Circular Left Shift by 1 bit:\n",
    "# ls1_1 = k1[-1]+k1[:4]\n",
    "# ls1_2 = k2[-1]+k2[:4]\n",
    "ls1_1 = LeftShift1(k1)\n",
    "ls1_2 = LeftShift1(k2)\n",
    "print(ls1_1 )\n",
    "print(ls1_2)"
   ]
  },
  {
   "cell_type": "code",
   "execution_count": 12,
   "metadata": {},
   "outputs": [
    {
     "name": "stdout",
     "output_type": "stream",
     "text": [
      "0111111010\n"
     ]
    }
   ],
   "source": [
    "#Merging ls1_1 and ls1_2 :\n",
    "LS = ls1_1 + ls1_2\n",
    "print(LS)"
   ]
  },
  {
   "cell_type": "code",
   "execution_count": 13,
   "metadata": {},
   "outputs": [
    {
     "name": "stdout",
     "output_type": "stream",
     "text": [
      "11110101\n"
     ]
    }
   ],
   "source": [
    "# P-8 table:\n",
    "#P8 = [6,3,7,4,8,5,10,9]\n",
    "Key1=permute(LS,P8)"
   ]
  },
  {
   "cell_type": "code",
   "execution_count": 14,
   "metadata": {},
   "outputs": [
    {
     "name": "stdout",
     "output_type": "stream",
     "text": [
      "11101\n",
      "01011\n"
     ]
    }
   ],
   "source": [
    "# Circular Left Shift by 2 bits\n",
    "ls2_1 = LeftShift1(LeftShift1(ls1_1))\n",
    "ls2_2 = LeftShift1(LeftShift1(ls1_2))\n",
    "\n",
    "print(ls2_1)\n",
    "print(ls2_2)"
   ]
  },
  {
   "cell_type": "code",
   "execution_count": 15,
   "metadata": {},
   "outputs": [
    {
     "name": "stdout",
     "output_type": "stream",
     "text": [
      "1110101011\n"
     ]
    }
   ],
   "source": [
    "LS2 = ls2_1 + ls2_2\n",
    "print(LS2)"
   ]
  },
  {
   "cell_type": "code",
   "execution_count": 16,
   "metadata": {},
   "outputs": [
    {
     "name": "stdout",
     "output_type": "stream",
     "text": [
      "01100111\n"
     ]
    }
   ],
   "source": [
    "Key2 = permute(LS2,P8)\n"
   ]
  },
  {
   "cell_type": "markdown",
   "metadata": {},
   "source": [
    "## Encryption: ##"
   ]
  },
  {
   "cell_type": "code",
   "execution_count": 17,
   "metadata": {},
   "outputs": [],
   "source": [
    "# 0\t1\t0\t0\t1\t1\t0\t1\n",
    "PT  = '01001101'\n",
    "#[0,1,0,0,1,1,0,1]"
   ]
  },
  {
   "cell_type": "code",
   "execution_count": 18,
   "metadata": {},
   "outputs": [
    {
     "data": {
      "text/plain": [
       "'11110000'"
      ]
     },
     "execution_count": 18,
     "metadata": {},
     "output_type": "execute_result"
    }
   ],
   "source": [
    "'{0:b}'.format(240)"
   ]
  },
  {
   "cell_type": "code",
   "execution_count": 19,
   "metadata": {},
   "outputs": [],
   "source": [
    "# IP tabel:\n",
    "IP = [2,6,3,1,4,8,5,7]\n"
   ]
  },
  {
   "cell_type": "code",
   "execution_count": 20,
   "metadata": {},
   "outputs": [
    {
     "name": "stdout",
     "output_type": "stream",
     "text": [
      "11000110\n"
     ]
    }
   ],
   "source": [
    "PTperm = permute(PT,IP)"
   ]
  },
  {
   "cell_type": "code",
   "execution_count": 21,
   "metadata": {},
   "outputs": [
    {
     "name": "stdout",
     "output_type": "stream",
     "text": [
      "1100\n",
      "0110\n"
     ]
    }
   ],
   "source": [
    "#Splitting\n",
    "PTperm1 = PTperm[:4]\n",
    "PTperm2 = PTperm[4:]\n",
    "print(PTperm1)\n",
    "print(PTperm2)"
   ]
  },
  {
   "cell_type": "markdown",
   "metadata": {},
   "source": [
    "## Complex Function 1 ##"
   ]
  },
  {
   "cell_type": "code",
   "execution_count": 22,
   "metadata": {},
   "outputs": [],
   "source": [
    "# EP Table:\n",
    "EP = [4,1,2,3,2,3,4,1,]"
   ]
  },
  {
   "cell_type": "code",
   "execution_count": 23,
   "metadata": {},
   "outputs": [
    {
     "name": "stdout",
     "output_type": "stream",
     "text": [
      "00111100\n"
     ]
    }
   ],
   "source": [
    "ep1 = permute(PTperm2, EP)"
   ]
  },
  {
   "cell_type": "code",
   "execution_count": 24,
   "metadata": {},
   "outputs": [],
   "source": [
    "# # XOR ep1 w/ key\n",
    "# t  = int(ep1,2) ^ int(Key1,2)\n",
    "# print(t)\n",
    "# t = '{0:b}'.format(t)\n",
    "# print(t)"
   ]
  },
  {
   "cell_type": "code",
   "execution_count": 25,
   "metadata": {},
   "outputs": [
    {
     "name": "stdout",
     "output_type": "stream",
     "text": [
      "11001001\n"
     ]
    }
   ],
   "source": [
    "print(XOR1(ep1,Key1))"
   ]
  },
  {
   "cell_type": "code",
   "execution_count": 26,
   "metadata": {},
   "outputs": [
    {
     "name": "stdout",
     "output_type": "stream",
     "text": [
      "11001001\n"
     ]
    }
   ],
   "source": [
    "t1 = XOR1(ep1,Key1)\n",
    "print(t1)"
   ]
  },
  {
   "cell_type": "code",
   "execution_count": 27,
   "metadata": {},
   "outputs": [
    {
     "name": "stdout",
     "output_type": "stream",
     "text": [
      "1100\n",
      "1001\n"
     ]
    }
   ],
   "source": [
    "#Splitting the XOR output:\n",
    "t1_1 = t1[:4]\n",
    "t1_2 = t1[4:]\n",
    "\n",
    "print(t1_1)\n",
    "print(t1_2)"
   ]
  },
  {
   "cell_type": "code",
   "execution_count": 28,
   "metadata": {},
   "outputs": [
    {
     "name": "stdout",
     "output_type": "stream",
     "text": [
      "[[1, 0, 3, 2], [3, 2, 1, 0], [0, 2, 1, 3], [3, 1, 3, 2]]\n",
      "[[0, 1, 2, 3], [2, 0, 1, 3], [3, 0, 1, 0], [2, 1, 0, 3]]\n"
     ]
    }
   ],
   "source": [
    "# S0 and S1 table:\n",
    "S0 = [[1,0,3,2],[3,2,1,0],[0,2,1,3],[3,1,3,2]]\n",
    "print(S0)\n",
    "S1 = [[0,1,2,3],[2,0,1,3],[3,0,1,0],[2,1,0,3]]\n",
    "print(S1)"
   ]
  },
  {
   "cell_type": "code",
   "execution_count": 29,
   "metadata": {},
   "outputs": [
    {
     "data": {
      "text/plain": [
       "3"
      ]
     },
     "execution_count": 29,
     "metadata": {},
     "output_type": "execute_result"
    }
   ],
   "source": [
    "S0[1][0]"
   ]
  },
  {
   "cell_type": "code",
   "execution_count": 30,
   "metadata": {},
   "outputs": [
    {
     "name": "stdout",
     "output_type": "stream",
     "text": [
      "row= 2   col= 2\n",
      "row= 3   col= 0\n"
     ]
    }
   ],
   "source": [
    "#Extracting the row nos and column numbers from the  S0 sand S1 tables\n",
    "r1 = int(t1_1[0]+t1_1[3], 2)\n",
    "c1 = int(t1_1[1]+t1_1[2], 2)\n",
    "print('row=',r1, ' ','col=',c1)\n",
    "\n",
    "r2 = int(t1_2[0]+t1_2[3], 2)\n",
    "c2 = int(t1_2[1]+t1_2[2], 2)\n",
    "print('row=',r2, ' ','col=',c2)"
   ]
  },
  {
   "cell_type": "code",
   "execution_count": 31,
   "metadata": {},
   "outputs": [
    {
     "name": "stdout",
     "output_type": "stream",
     "text": [
      "1\n",
      "2\n"
     ]
    }
   ],
   "source": [
    "S0out = S0[r1][c1]\n",
    "print(S0out)\n",
    "S1out = S1[r2][c2]\n",
    "print(S1out)"
   ]
  },
  {
   "cell_type": "code",
   "execution_count": 32,
   "metadata": {},
   "outputs": [
    {
     "data": {
      "text/plain": [
       "'0001'"
      ]
     },
     "execution_count": 32,
     "metadata": {},
     "output_type": "execute_result"
    }
   ],
   "source": [
    "'{:04b}'.format(1)"
   ]
  },
  {
   "cell_type": "code",
   "execution_count": 33,
   "metadata": {},
   "outputs": [
    {
     "name": "stdout",
     "output_type": "stream",
     "text": [
      "0110\n"
     ]
    }
   ],
   "source": [
    "# Merging  the binaries of S0out and S1out\n",
    "#S01 = '{0:b}'.format(S0out) + '{0:b}'.format(S1out)\n",
    "S01 = ''\n",
    "tmp1 = '{0:02b}'.format(S0out)\n",
    "tmp2 = '{0:02b}'.format(S1out)\n",
    "S01 = tmp1 + tmp2\n",
    "print(S01)\n"
   ]
  },
  {
   "cell_type": "code",
   "execution_count": 34,
   "metadata": {},
   "outputs": [],
   "source": [
    "# P4 Table:\n",
    "P4 = [2,4,3,1,]"
   ]
  },
  {
   "cell_type": "code",
   "execution_count": 35,
   "metadata": {},
   "outputs": [
    {
     "name": "stdout",
     "output_type": "stream",
     "text": [
      "1010\n"
     ]
    }
   ],
   "source": [
    "P4out = permute(S01, P4)"
   ]
  },
  {
   "cell_type": "code",
   "execution_count": 36,
   "metadata": {},
   "outputs": [
    {
     "name": "stdout",
     "output_type": "stream",
     "text": [
      "0110\n"
     ]
    }
   ],
   "source": [
    "# XOR of P4out and PTperm1:\n",
    "XORout = XOR1(P4out,PTperm1)\n",
    "print(XORout)"
   ]
  },
  {
   "cell_type": "markdown",
   "metadata": {},
   "source": [
    "## Complex Function 2 ##"
   ]
  },
  {
   "cell_type": "code",
   "execution_count": 37,
   "metadata": {},
   "outputs": [
    {
     "name": "stdout",
     "output_type": "stream",
     "text": [
      "00111100\n"
     ]
    }
   ],
   "source": [
    "# Complex Function \n",
    "# EPing swapped XORout and PTperm2\n",
    "\n",
    "ep2 = ''\n",
    "for i in EP:\n",
    "    ep2 = ep2 + XORout[i-1]\n",
    "    \n",
    "print(ep2)"
   ]
  },
  {
   "cell_type": "code",
   "execution_count": 38,
   "metadata": {},
   "outputs": [
    {
     "name": "stdout",
     "output_type": "stream",
     "text": [
      "01011011\n"
     ]
    }
   ],
   "source": [
    "# XoR ep2 w/ key2:\n",
    "\n",
    "t2 = XOR1(ep2,Key2)\n",
    "print(t2)"
   ]
  },
  {
   "cell_type": "code",
   "execution_count": 39,
   "metadata": {},
   "outputs": [
    {
     "name": "stdout",
     "output_type": "stream",
     "text": [
      "0101\n",
      "1011\n"
     ]
    }
   ],
   "source": [
    "t2_1 = t2[:4]\n",
    "t2_2 = t2[4:]\n",
    "print(t2_1)\n",
    "print(t2_2)"
   ]
  },
  {
   "cell_type": "code",
   "execution_count": 40,
   "metadata": {},
   "outputs": [
    {
     "name": "stdout",
     "output_type": "stream",
     "text": [
      "row= 1   col= 2\n",
      "row= 3   col= 1\n"
     ]
    }
   ],
   "source": [
    "#Extracting the row nos and column numbers from the  S0 sand S1 tables\n",
    "r21 = int(t2_1[0]+t2_1[3], 2)\n",
    "c21 = int(t2_1[1]+t2_1[2], 2)\n",
    "print('row=',r21, ' ','col=',c21)\n",
    "\n",
    "r22 = int(t2_2[0]+t2_2[3], 2)\n",
    "c22 = int(t2_2[1]+t2_2[2], 2)\n",
    "print('row=',r22, ' ','col=',c22)"
   ]
  },
  {
   "cell_type": "code",
   "execution_count": 41,
   "metadata": {},
   "outputs": [
    {
     "name": "stdout",
     "output_type": "stream",
     "text": [
      "1\n",
      "1\n"
     ]
    }
   ],
   "source": [
    "S20out = S0[r21][c21]\n",
    "print(S20out)\n",
    "S21out = S1[r22][c22]\n",
    "print(S21out)"
   ]
  },
  {
   "cell_type": "code",
   "execution_count": 42,
   "metadata": {},
   "outputs": [
    {
     "name": "stdout",
     "output_type": "stream",
     "text": [
      "1100\n",
      "1100\n"
     ]
    }
   ],
   "source": [
    "P4_2 = '{0:02b}'.format(S20out) + '{0:02b}'.format(S21out)\n",
    "P4_2 = permute(P4_2,P4)\n",
    "print(P4_2)"
   ]
  },
  {
   "cell_type": "code",
   "execution_count": 43,
   "metadata": {},
   "outputs": [
    {
     "name": "stdout",
     "output_type": "stream",
     "text": [
      "1010\n"
     ]
    }
   ],
   "source": [
    "# XoR Ptperm2 w/ P4_2:\n",
    "t3 = XOR1(P4_2,PTperm2)\n",
    "print(t3)"
   ]
  },
  {
   "cell_type": "code",
   "execution_count": 44,
   "metadata": {},
   "outputs": [
    {
     "name": "stdout",
     "output_type": "stream",
     "text": [
      "10100110\n"
     ]
    }
   ],
   "source": [
    "# Concatenating t3 and XORout:\n",
    "ipt = ''\n",
    "ipt = ipt + str(t3) + str(XORout) \n",
    "    \n",
    "print(ipt)"
   ]
  },
  {
   "cell_type": "code",
   "execution_count": 45,
   "metadata": {},
   "outputs": [],
   "source": [
    "# IP inverse table:\n",
    "IPinv = [4,1,3,5,7,2,8,6,] "
   ]
  },
  {
   "cell_type": "code",
   "execution_count": 46,
   "metadata": {},
   "outputs": [
    {
     "name": "stdout",
     "output_type": "stream",
     "text": [
      "01101001\n",
      "01101001\n"
     ]
    }
   ],
   "source": [
    "# Cipher Text Generation\n",
    "# Permuatation ipt w/ IP inverse:\n",
    "\n",
    "CT = permute(ipt,IPinv)\n",
    "print(CT)"
   ]
  },
  {
   "cell_type": "markdown",
   "metadata": {},
   "source": [
    "# Decryption #"
   ]
  },
  {
   "cell_type": "code",
   "execution_count": 47,
   "metadata": {},
   "outputs": [
    {
     "name": "stdout",
     "output_type": "stream",
     "text": [
      "01101001\n"
     ]
    }
   ],
   "source": [
    "print(CT)"
   ]
  },
  {
   "cell_type": "code",
   "execution_count": 48,
   "metadata": {},
   "outputs": [],
   "source": [
    "# IP tabel:\n",
    "IP = [2,6,3,1,4,8,5,7]"
   ]
  },
  {
   "cell_type": "code",
   "execution_count": 53,
   "metadata": {},
   "outputs": [],
   "source": [
    "# 4 \t1 \t2 \t3 \t2 \t3 \t4 \t1\n",
    "EP4 = [4,1,2,3,2,3,1,4]"
   ]
  },
  {
   "cell_type": "code",
   "execution_count": 54,
   "metadata": {},
   "outputs": [
    {
     "name": "stdout",
     "output_type": "stream",
     "text": [
      "0110\n",
      "1001\n"
     ]
    }
   ],
   "source": [
    "#Splitting the CT\n",
    "CTl = CT[:4]\n",
    "CTr = CT[4:]\n",
    "print(CTl)\n",
    "print(CTr)"
   ]
  },
  {
   "cell_type": "code",
   "execution_count": 55,
   "metadata": {},
   "outputs": [
    {
     "name": "stdout",
     "output_type": "stream",
     "text": [
      "11000011\n",
      "11000011\n"
     ]
    }
   ],
   "source": [
    "# Apply EP to the right 4 bits:\n",
    "rEP = permute(CTr,EP4)\n",
    "print(rEP)"
   ]
  },
  {
   "cell_type": "code",
   "execution_count": 56,
   "metadata": {},
   "outputs": [
    {
     "name": "stdout",
     "output_type": "stream",
     "text": [
      "10100100\n"
     ]
    }
   ],
   "source": [
    "# XOR the above rEP w/ Key2:\n",
    "XRout = XOR1(rEP,Key2)\n",
    "print(XRout)"
   ]
  },
  {
   "cell_type": "code",
   "execution_count": 57,
   "metadata": {},
   "outputs": [
    {
     "name": "stdout",
     "output_type": "stream",
     "text": [
      "1010\n",
      "0100\n"
     ]
    }
   ],
   "source": [
    "XRl = XRout[:4]\n",
    "XRr = XRout[4:]\n",
    "print(XRl)\n",
    "print(XRr)"
   ]
  },
  {
   "cell_type": "code",
   "execution_count": 58,
   "metadata": {},
   "outputs": [
    {
     "name": "stdout",
     "output_type": "stream",
     "text": [
      "row= 2   col= 1\n",
      "row= 0   col= 2\n"
     ]
    }
   ],
   "source": [
    "# Table permutation of above ou\n",
    "\n",
    "#Extracting the row nos and column numbers from the  S0 sand S1 tables\n",
    "r1 = int(XRl[0]+XRl[3], 2)\n",
    "c1 = int(XRl[1]+XRl[2], 2)\n",
    "print('row=',r1, ' ','col=',c1)\n",
    "\n",
    "r2 = int(XRr[0]+XRr[3], 2)\n",
    "c2 = int(XRr[1]+XRr[2], 2)\n",
    "print('row=',r2, ' ','col=',c2)\n",
    "\n",
    "\n"
   ]
  },
  {
   "cell_type": "code",
   "execution_count": 59,
   "metadata": {},
   "outputs": [
    {
     "name": "stdout",
     "output_type": "stream",
     "text": [
      "2\n",
      "2\n"
     ]
    }
   ],
   "source": [
    "DS0out = S0[r1][c1]\n",
    "print(DS0out)\n",
    "DS1out = S1[r2][c2]\n",
    "print(DS1out)"
   ]
  },
  {
   "cell_type": "code",
   "execution_count": 60,
   "metadata": {},
   "outputs": [
    {
     "name": "stdout",
     "output_type": "stream",
     "text": [
      "1010\n"
     ]
    }
   ],
   "source": [
    "# Merging  the binaries of S0out and S1out\n",
    "#S01 = '{0:b}'.format(S0out) + '{0:b}'.format(S1out)\n",
    "DS01 = ''\n",
    "tmp1 = '{0:02b}'.format(DS0out)\n",
    "tmp2 = '{0:02b}'.format(DS1out)\n",
    "DS01 = tmp1 + tmp2\n",
    "print(DS01)\n"
   ]
  },
  {
   "cell_type": "code",
   "execution_count": 61,
   "metadata": {},
   "outputs": [
    {
     "name": "stdout",
     "output_type": "stream",
     "text": [
      "0011\n"
     ]
    }
   ],
   "source": [
    "# PErmuting the above w/ P4\n",
    "P4 = [2,4,1,3]\n",
    "\n",
    "DP4op  = permute(DS01,P4)\n"
   ]
  },
  {
   "cell_type": "code",
   "execution_count": 62,
   "metadata": {},
   "outputs": [
    {
     "name": "stdout",
     "output_type": "stream",
     "text": [
      "0101\n"
     ]
    }
   ],
   "source": [
    "# XORing the above op w/ the first half of IP(CT):\n",
    "\n",
    "lCTXor = XOR1(CTl,DP4op)\n",
    "print(lCTXor)"
   ]
  },
  {
   "cell_type": "code",
   "execution_count": 63,
   "metadata": {},
   "outputs": [],
   "source": [
    "# Swap output\n",
    "tmp2 = CTr + lCTXor"
   ]
  },
  {
   "cell_type": "code",
   "execution_count": 64,
   "metadata": {},
   "outputs": [
    {
     "name": "stdout",
     "output_type": "stream",
     "text": [
      "10101010\n",
      "10101010\n"
     ]
    }
   ],
   "source": [
    "EPopt = permute(lCTXor,[4,1,2,3,2,3,4,1])\n",
    "print(EPopt)"
   ]
  },
  {
   "cell_type": "code",
   "execution_count": 65,
   "metadata": {},
   "outputs": [
    {
     "name": "stdout",
     "output_type": "stream",
     "text": [
      "01011111\n"
     ]
    }
   ],
   "source": [
    "# XOR the EPopt w/ Key1:\n",
    "DXORout = XOR1(EPopt,Key1)\n",
    "print(DXORout)"
   ]
  },
  {
   "cell_type": "code",
   "execution_count": 66,
   "metadata": {},
   "outputs": [
    {
     "name": "stdout",
     "output_type": "stream",
     "text": [
      "0101\n",
      "1111\n"
     ]
    }
   ],
   "source": [
    "DXl = DXORout[:4]\n",
    "DXr = DXORout[4:]\n",
    "\n",
    "print(DXl)\n",
    "print(DXr)\n"
   ]
  },
  {
   "cell_type": "code",
   "execution_count": 67,
   "metadata": {},
   "outputs": [
    {
     "name": "stdout",
     "output_type": "stream",
     "text": [
      "row= 1   col= 2\n",
      "row= 3   col= 3\n",
      "1\n",
      "3\n",
      "0111\n"
     ]
    }
   ],
   "source": [
    "# Table permutation of above ou\n",
    "\n",
    "#Extracting the row nos and column numbers from the  S0 sand S1 tables\n",
    "r1 = int(DXl[0]+DXl[3], 2)\n",
    "c1 = int(DXl[1]+DXl[2], 2)\n",
    "print('row=',r1, ' ','col=',c1)\n",
    "\n",
    "r2 = int(DXr[0]+DXr[3], 2)\n",
    "c2 = int(DXr[1]+DXr[2], 2)\n",
    "print('row=',r2, ' ','col=',c2)\n",
    "\n",
    "D2S0out = S0[r1][c1]\n",
    "print(D2S0out)\n",
    "D2S1out = S1[r2][c2]\n",
    "print(D2S1out)\n",
    "\n",
    "D2S01 = ''\n",
    "tmp1 = '{0:02b}'.format(D2S0out)\n",
    "tmp2 = '{0:02b}'.format(D2S1out)\n",
    "D2S01 = tmp1 + tmp2\n",
    "print(D2S01)\n"
   ]
  },
  {
   "cell_type": "code",
   "execution_count": 68,
   "metadata": {},
   "outputs": [
    {
     "name": "stdout",
     "output_type": "stream",
     "text": [
      "1101\n"
     ]
    }
   ],
   "source": [
    "# To above result, apply permutation P4:\n",
    "# PErmuting the above w/ P4\n",
    "P4 = [2,4,1,3]\n",
    "\n",
    "DP4op2  = permute(D2S01,P4)\n"
   ]
  },
  {
   "cell_type": "code",
   "execution_count": 69,
   "metadata": {},
   "outputs": [
    {
     "name": "stdout",
     "output_type": "stream",
     "text": [
      "0100\n"
     ]
    }
   ],
   "source": [
    "#Upon the above P4 result, perform binary XOR operation, combining it with the left 4-bits of the earlier swap result\n",
    "\n",
    "rCTXor = XOR1(CTr,DP4op2)\n",
    "print(rCTXor)\n"
   ]
  },
  {
   "cell_type": "code",
   "execution_count": 70,
   "metadata": {},
   "outputs": [
    {
     "name": "stdout",
     "output_type": "stream",
     "text": [
      "01000101\n"
     ]
    }
   ],
   "source": [
    "finIpt = rCTXor + lCTXor\n",
    "#finIpt =  lCTXor +rCTXor\n",
    "\n",
    "print(finIpt)\n"
   ]
  },
  {
   "cell_type": "code",
   "execution_count": 71,
   "metadata": {},
   "outputs": [
    {
     "name": "stdout",
     "output_type": "stream",
     "text": [
      "00000111\n"
     ]
    }
   ],
   "source": [
    "# 4 \t1 \t3 \t5 \t7 \t2 \t8 \t6 \n",
    "IPiv = [4,1,3,5,7,2,8,6]\n",
    "PTfin = permute(finIpt, IPiv)"
   ]
  },
  {
   "cell_type": "code",
   "execution_count": null,
   "metadata": {},
   "outputs": [],
   "source": []
  },
  {
   "cell_type": "code",
   "execution_count": null,
   "metadata": {},
   "outputs": [],
   "source": []
  },
  {
   "cell_type": "code",
   "execution_count": null,
   "metadata": {},
   "outputs": [],
   "source": []
  },
  {
   "cell_type": "code",
   "execution_count": null,
   "metadata": {},
   "outputs": [],
   "source": []
  },
  {
   "cell_type": "code",
   "execution_count": null,
   "metadata": {},
   "outputs": [],
   "source": []
  },
  {
   "cell_type": "code",
   "execution_count": null,
   "metadata": {},
   "outputs": [],
   "source": []
  },
  {
   "cell_type": "code",
   "execution_count": null,
   "metadata": {},
   "outputs": [],
   "source": []
  }
 ],
 "metadata": {
  "kernelspec": {
   "display_name": "Python 3",
   "language": "python",
   "name": "python3"
  },
  "language_info": {
   "codemirror_mode": {
    "name": "ipython",
    "version": 3
   },
   "file_extension": ".py",
   "mimetype": "text/x-python",
   "name": "python",
   "nbconvert_exporter": "python",
   "pygments_lexer": "ipython3",
   "version": "3.7.3"
  }
 },
 "nbformat": 4,
 "nbformat_minor": 2
}
